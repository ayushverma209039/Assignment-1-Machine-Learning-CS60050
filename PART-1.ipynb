{
 "cells": [
  {
   "cell_type": "code",
   "execution_count": 1,
   "metadata": {},
   "outputs": [],
   "source": [
    "import pandas as pd \n",
    "import numpy as np\n",
    "import matplotlib.pyplot as plt\n",
    "import random\n",
    "%matplotlib inline"
   ]
  },
  {
   "cell_type": "code",
   "execution_count": 2,
   "metadata": {},
   "outputs": [],
   "source": [
    "train = pd.read_csv('train.csv')\n",
    "test  = pd.read_csv('test.csv')\n",
    "m = train[' Label'].size\n",
    "n = test[' Label'].size"
   ]
  },
  {
   "cell_type": "markdown",
   "metadata": {},
   "source": [
    "# Question1 (a). Plot of feature vs label graph for both the training data and the test data"
   ]
  },
  {
   "cell_type": "code",
   "execution_count": 3,
   "metadata": {},
   "outputs": [
    {
     "data": {
      "image/png": "[encoded data removed]",
      "text/plain": [
       "<Figure size 432x288 with 1 Axes>"
      ]
     },
     "metadata": {
      "needs_background": "light"
     },
     "output_type": "display_data"
    },
    {
     "data": {
      "text/plain": [
       "<matplotlib.collections.PathCollection at 0x165c53911c8>"
      ]
     },
     "execution_count": 3,
     "metadata": {},
     "output_type": "execute_result"
    },
    {
     "data": {
      "image/png": "[encoded data removed]",
      "text/plain": [
       "<Figure size 432x288 with 1 Axes>"
      ]
     },
     "metadata": {
      "needs_background": "light"
     },
     "output_type": "display_data"
    }
   ],
   "source": [
    "plt.scatter(train['Feature'],train[' Label'])\n",
    "plt.pause(0.0001)\n",
    "plt.scatter(test['Feature'],test[' Label'])"
   ]
  },
  {
   "cell_type": "code",
   "execution_count": 4,
   "metadata": {},
   "outputs": [],
   "source": [
    "def cost_function(X,y,theta):\n",
    "    J = 0\n",
    "    m = m = y.shape[0]\n",
    "    h = np.dot(theta,X)    \n",
    "    J = (1/(2 * m)) * np.sum(np.square(np.dot(theta, X) - y))\n",
    "    return J"
   ]
  },
  {
   "cell_type": "code",
   "execution_count": 5,
   "metadata": {},
   "outputs": [],
   "source": [
    "def gradientDescent(X, y, theta, alpha, num_iters):\n",
    "    m = y.shape[0]  \n",
    "    theta = theta.copy()\n",
    "    \n",
    "    J_history = [] \n",
    "    \n",
    "    for i in range(num_iters): \n",
    "#         h = np.dot(theta,X) - y\n",
    "        theta = theta - (alpha / m) * (np.dot(theta,X) - y).dot(X.T)\n",
    "        J_history.append(cost_function(X, y, theta))\n",
    "    \n",
    "    return theta, J_history"
   ]
  },
  {
   "cell_type": "code",
   "execution_count": 7,
   "metadata": {},
   "outputs": [],
   "source": [
    "def LG(train,test,k,alpha,iterations):\n",
    "    errors = []\n",
    "    Xtr = train['Feature']\n",
    "    Ytr = np.array(train[' Label'])\n",
    "    Xts = np.array(test['Feature'])\n",
    "    Yts = np.array(test[' Label'])\n",
    "    Xtr = np.array([Xtr**i for i in range(k+1)])\n",
    "    Xts = np.array([Xts**i for i in range(k+1)])\n",
    "    theta = np.zeros(k+1)\n",
    "    theta, J_history = gradientDescent(Xtr ,Ytr, theta, alpha, iterations)\n",
    "    predict = np.dot(theta,Xts)\n",
    "#     print('                      Curve          ')\n",
    "#     plt.scatter(test['Feature'],test[' Label'])\n",
    "#     plt.scatter(Xts[1,:],predict)\n",
    "#     plt.xlabel('Feature')\n",
    "#     plt.ylabel('Label')\n",
    "#     plt.pause(0.000001)\n",
    "#     print('               Error vs Iterations')\n",
    "#     plt.plot(J_history)\n",
    "#     plt.xlabel('Iterations')\n",
    "#     plt.ylabel('Error')\n",
    "#     errors.append((J_history[-1], cost_function(Xts, Yts, theta)))\n",
    "    return J_history[-1], cost_function(Xts, Yts, theta)"
   ]
  },
  {
   "cell_type": "markdown",
   "metadata": {},
   "source": [
    "# Part 1(b). Fitting the polynomial and calculating Test dataset Error"
   ]
  },
  {
   "cell_type": "code",
   "execution_count": 8,
   "metadata": {
    "scrolled": true
   },
   "outputs": [
    {
     "name": "stdout",
     "output_type": "stream",
     "text": [
      "######### Currently doing for Polynomial Order = 1 #########\n",
      "######### Currently doing for Polynomial Order = 2 #########\n",
      "######### Currently doing for Polynomial Order = 3 #########\n",
      "######### Currently doing for Polynomial Order = 4 #########\n",
      "######### Currently doing for Polynomial Order = 5 #########\n",
      "######### Currently doing for Polynomial Order = 6 #########\n",
      "######### Currently doing for Polynomial Order = 7 #########\n",
      "######### Currently doing for Polynomial Order = 8 #########\n",
      "######### Currently doing for Polynomial Order = 9 #########\n"
     ]
    }
   ],
   "source": [
    "test_error=[]\n",
    "for i in range(1,10):\n",
    "    print('######### Currently doing for Polynomial Order = '+str(i)+' #########')\n",
    "    _1, _2 = LG(train,test,i,0.05,150000)\n",
    "#     errtr.append(_1)\n",
    "    test_error.append(_2)\n",
    "    plt.pause(0.000001)"
   ]
  },
  {
   "cell_type": "code",
   "execution_count": 9,
   "metadata": {},
   "outputs": [
    {
     "name": "stdout",
     "output_type": "stream",
     "text": [
      "Order = 0, Test Error = 0.09556384015648905\n",
      "Order = 1, Test Error = 0.09606880187799398\n",
      "Order = 2, Test Error = 0.023759371122358337\n",
      "Order = 3, Test Error = 0.005334580656380295\n",
      "Order = 4, Test Error = 0.008631844274626117\n",
      "Order = 5, Test Error = 0.011320869206696726\n",
      "Order = 6, Test Error = 0.010958410116448256\n",
      "Order = 7, Test Error = 0.008439831753045817\n",
      "Order = 8, Test Error = 0.005596210505149524\n"
     ]
    }
   ],
   "source": [
    "for i in range(0,9):\n",
    "    print('Order = '+str(i)+', Test Error = '+str(test_error[i]))"
   ]
  }
 ],
 "metadata": {
  "kernelspec": {
   "display_name": "Python 3",
   "language": "python",
   "name": "python3"
  },
  "language_info": {
   "codemirror_mode": {
    "name": "ipython",
    "version": 3
   },
   "file_extension": ".py",
   "mimetype": "text/x-python",
   "name": "python",
   "nbconvert_exporter": "python",
   "pygments_lexer": "ipython3",
   "version": "3.7.4"
  }
 },
 "nbformat": 4,
 "nbformat_minor": 2
}
